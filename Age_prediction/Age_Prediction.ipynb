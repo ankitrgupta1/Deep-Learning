{
 "cells": [
  {
   "cell_type": "markdown",
   "metadata": {},
   "source": [
    "# Understanding the way to use pre-trained model or transfer learning"
   ]
  },
  {
   "cell_type": "code",
   "execution_count": 1,
   "metadata": {},
   "outputs": [
    {
     "name": "stderr",
     "output_type": "stream",
     "text": [
      "C:\\Users\\Ankit\\Anaconda3\\lib\\site-packages\\h5py\\__init__.py:36: FutureWarning: Conversion of the second argument of issubdtype from `float` to `np.floating` is deprecated. In future, it will be treated as `np.float64 == np.dtype(float).type`.\n",
      "  from ._conv import register_converters as _register_converters\n",
      "Using TensorFlow backend.\n"
     ]
    }
   ],
   "source": [
    "# importing required libraries\n",
    "\n",
    "from keras.models import Sequential\n",
    "from scipy.misc import imread\n",
    "get_ipython().magic('matplotlib inline')\n",
    "import matplotlib.pyplot as plt\n",
    "import numpy as np\n",
    "import keras\n",
    "from keras.layers import Dense\n",
    "import pandas as pd"
   ]
  },
  {
   "cell_type": "code",
   "execution_count": 46,
   "metadata": {},
   "outputs": [],
   "source": [
    "#import better_exceptions\n",
    "from keras.applications import ResNet50, InceptionResNetV2, VGG16\n",
    "from keras.layers import Dense\n",
    "from keras.models import Model\n",
    "from keras import backend as K\n",
    "from keras.utils import to_categorical\n",
    "from sklearn.model_selection import train_test_split\n",
    "from keras.optimizers import SGD, Adam"
   ]
  },
  {
   "cell_type": "code",
   "execution_count": 20,
   "metadata": {},
   "outputs": [],
   "source": [
    "def age_mae(y_true, y_pred):\n",
    "    true_age = K.sum(y_true * K.arange(0, 101, dtype=\"float32\"), axis=-1)\n",
    "    pred_age = K.sum(y_pred * K.arange(0, 101, dtype=\"float32\"), axis=-1)\n",
    "    mae = K.mean(K.abs(true_age - pred_age))\n",
    "    return mae"
   ]
  },
  {
   "cell_type": "code",
   "execution_count": 43,
   "metadata": {},
   "outputs": [],
   "source": [
    "def get_model(model_name=\"ResNet50\"):\n",
    "    base_model = None\n",
    "\n",
    "    if model_name == \"ResNet50\":\n",
    "        #base_model = ResNet50(include_top=False, weights='imagenet', input_shape=(224, 224, 3), pooling=\"avg\")\n",
    "        base_model = ResNet50(include_top=False, weights='imagenet', input_shape=(48, 48, 3), pooling=\"avg\")\n",
    "    elif model_name == \"InceptionResNetV2\":\n",
    "        #base_model = InceptionResNetV2(include_top=False, weights='imagenet', input_shape=(299, 299, 3), pooling=\"avg\")\n",
    "        base_model = InceptionResNetV2(include_top=False, weights='imagenet', input_shape=(48, 48, 3), pooling=\"avg\")\n",
    "    elif model_name == \"VGG16\":\n",
    "        #base_model = VGG16(include_top=False, weights='imagenet', input_shape=(224, 224, 3), pooling=\"avg\")\n",
    "        base_model = VGG16(include_top=False, weights='imagenet', input_shape=(48, 48, 3), pooling=\"avg\")\n",
    "\n",
    "    prediction = Dense(units=101, kernel_initializer=\"he_normal\", use_bias=False, activation=\"softmax\",\n",
    "                       name=\"pred_age\")(base_model.output)\n",
    "\n",
    "    model = Model(inputs=base_model.input, outputs=prediction)\n",
    "\n",
    "    return model"
   ]
  },
  {
   "cell_type": "code",
   "execution_count": 22,
   "metadata": {},
   "outputs": [],
   "source": [
    "def get_optimizer(opt_name, lr):\n",
    "    if opt_name == \"sgd\":\n",
    "        return SGD(lr=lr, momentum=0.9, nesterov=True)\n",
    "    elif opt_name == \"adam\":\n",
    "        return Adam(lr=lr)\n",
    "    else:\n",
    "        raise ValueError(\"optimizer name should be 'sgd' or 'adam'\")\n"
   ]
  },
  {
   "cell_type": "code",
   "execution_count": 23,
   "metadata": {},
   "outputs": [],
   "source": [
    "def create_model(model_name, opt_name, lr):\n",
    "    model = get_model(model_name=model_name)\n",
    "    opt = get_optimizer(opt_name, lr)\n",
    "    model.compile(optimizer=opt, loss=\"categorical_crossentropy\", metrics=[age_mae])\n",
    "    #model.summary()\n",
    "    return model"
   ]
  },
  {
   "cell_type": "code",
   "execution_count": 24,
   "metadata": {},
   "outputs": [],
   "source": [
    "def train_model(model_name, opt_name, lr, train_x, train_y, val_x, val_y, epochs, batch_size):\n",
    "    model = create_model(model_name, opt_name, lr)\n",
    "    model.fit(train_x, train_y,\n",
    "                    epochs=epochs,\n",
    "                    batch_size=batch_size, \n",
    "                    validation_data=(val_x, val_y))\n",
    "    return model"
   ]
  },
  {
   "cell_type": "code",
   "execution_count": 25,
   "metadata": {},
   "outputs": [],
   "source": [
    "def predict(model, test_x):\n",
    "    for i in test_x:\n",
    "        #update this function properly\n",
    "        pred_y = model.predict(test_x)\n",
    "    return pred_y"
   ]
  },
  {
   "cell_type": "code",
   "execution_count": 2,
   "metadata": {},
   "outputs": [],
   "source": [
    "if ('trainingFaces' not in globals()):  # In ipython, use \"run -i homework2_template.py\" to avoid re-loading of data\n",
    "        trainingFaces = np.load(\"facesAndAges/faces.npy\")\n",
    "        trainingLabels = np.load(\"facesAndAges/ages.npy\")\n",
    "        #testingFaces = np.load(\"data/mnist_validation_images.npy\")\n",
    "        #testingLabels = np.load(\"data/mnist_validation_labels.npy\")"
   ]
  },
  {
   "cell_type": "code",
   "execution_count": 5,
   "metadata": {},
   "outputs": [
    {
     "data": {
      "text/plain": [
       "(7500, 48, 48)"
      ]
     },
     "execution_count": 5,
     "metadata": {},
     "output_type": "execute_result"
    }
   ],
   "source": [
    "trainingFaces.shape"
   ]
  },
  {
   "cell_type": "code",
   "execution_count": 6,
   "metadata": {},
   "outputs": [
    {
     "data": {
      "text/plain": [
       "(7500,)"
      ]
     },
     "execution_count": 6,
     "metadata": {},
     "output_type": "execute_result"
    }
   ],
   "source": [
    "trainingLabels.shape\n"
   ]
  },
  {
   "cell_type": "code",
   "execution_count": 8,
   "metadata": {},
   "outputs": [
    {
     "data": {
      "text/plain": [
       "0.0"
      ]
     },
     "execution_count": 8,
     "metadata": {},
     "output_type": "execute_result"
    }
   ],
   "source": [
    "np.min(trainingLabels)"
   ]
  },
  {
   "cell_type": "code",
   "execution_count": 15,
   "metadata": {},
   "outputs": [],
   "source": [
    "trainX,testX, trainY, testY = train_test_split(trainingFaces, trainingLabels, test_size=0.1, random_state=42)"
   ]
  },
  {
   "cell_type": "code",
   "execution_count": 16,
   "metadata": {},
   "outputs": [
    {
     "data": {
      "text/plain": [
       "(6750, 48, 48)"
      ]
     },
     "execution_count": 16,
     "metadata": {},
     "output_type": "execute_result"
    }
   ],
   "source": [
    "#trainX.shape\n",
    "\n"
   ]
  },
  {
   "cell_type": "code",
   "execution_count": 30,
   "metadata": {},
   "outputs": [],
   "source": [
    "train_x, val_x, train_y, val_y = train_test_split(trainX, trainY, test_size=0.2, random_state=42)"
   ]
  },
  {
   "cell_type": "code",
   "execution_count": 39,
   "metadata": {},
   "outputs": [],
   "source": [
    "#train_x.shape\n",
    "train_x_2 = np.stack([train_x]*3, axis=-1)\n",
    "val_x_2 = np.stack([val_x]*3, axis=-1)\n",
    "train_y_2 = to_categorical(train_y, 101)\n",
    "val_y_2 = to_categorical(val_y, 101)"
   ]
  },
  {
   "cell_type": "code",
   "execution_count": 41,
   "metadata": {},
   "outputs": [
    {
     "data": {
      "text/plain": [
       "array([0., 0., 0., 0., 0., 0., 0., 0., 0., 0., 0., 0., 0., 0., 0., 0., 0.,\n",
       "       0., 0., 0., 0., 0., 0., 0., 0., 0., 0., 0., 0., 0., 1., 0., 0., 0.,\n",
       "       0., 0., 0., 0., 0., 0., 0., 0., 0., 0., 0., 0., 0., 0., 0., 0., 0.,\n",
       "       0., 0., 0., 0., 0., 0., 0., 0., 0., 0., 0., 0., 0., 0., 0., 0., 0.,\n",
       "       0., 0., 0., 0., 0., 0., 0., 0., 0., 0., 0., 0., 0., 0., 0., 0., 0.,\n",
       "       0., 0., 0., 0., 0., 0., 0., 0., 0., 0., 0., 0., 0., 0., 0., 0.],\n",
       "      dtype=float32)"
      ]
     },
     "execution_count": 41,
     "metadata": {},
     "output_type": "execute_result"
    }
   ],
   "source": [
    "#val_y_2[1]"
   ]
  },
  {
   "cell_type": "code",
   "execution_count": null,
   "metadata": {},
   "outputs": [
    {
     "name": "stdout",
     "output_type": "stream",
     "text": [
      "WARNING:tensorflow:From C:\\Users\\Ankit\\Anaconda3\\lib\\site-packages\\tensorflow\\python\\ops\\math_ops.py:3066: to_int32 (from tensorflow.python.ops.math_ops) is deprecated and will be removed in a future version.\n",
      "Instructions for updating:\n",
      "Use tf.cast instead.\n",
      "Train on 5400 samples, validate on 1350 samples\n",
      "Epoch 1/40\n",
      "5400/5400 [==============================] - 520s 96ms/step - loss: 4.6939 - age_mae: 13.8931 - val_loss: 4.0107 - val_age_mae: 11.4704\n",
      "Epoch 2/40\n",
      "5400/5400 [==============================] - 517s 96ms/step - loss: 4.1027 - age_mae: 11.8972 - val_loss: 12.0542 - val_age_mae: 13.1998\n",
      "Epoch 3/40\n",
      "5400/5400 [==============================] - 521s 97ms/step - loss: 3.8976 - age_mae: 11.0572 - val_loss: 7.6803 - val_age_mae: 12.1231\n",
      "Epoch 4/40\n",
      "5400/5400 [==============================] - 521s 96ms/step - loss: 3.7829 - age_mae: 10.1752 - val_loss: 4.3823 - val_age_mae: 10.4409\n",
      "Epoch 5/40\n",
      "5400/5400 [==============================] - 518s 96ms/step - loss: 3.5979 - age_mae: 9.3306 - val_loss: 11.5829 - val_age_mae: 11.9297\n",
      "Epoch 6/40\n",
      "5000/5400 [==========================>...] - ETA: 36s - loss: 3.7879 - age_mae: 9.8960"
     ]
    }
   ],
   "source": [
    "model = train_model('ResNet50', 'adam', 1e-3, train_x_2, train_y_2, val_x_2, val_y_2, 40, 100)"
   ]
  },
  {
   "cell_type": "code",
   "execution_count": 33,
   "metadata": {},
   "outputs": [],
   "source": [
    "train_x_2 = np.stack([train_x]*3, axis=-1)"
   ]
  },
  {
   "cell_type": "code",
   "execution_count": 34,
   "metadata": {},
   "outputs": [
    {
     "data": {
      "text/plain": [
       "(5400, 48, 48)"
      ]
     },
     "execution_count": 34,
     "metadata": {},
     "output_type": "execute_result"
    }
   ],
   "source": [
    "train_x.shape"
   ]
  },
  {
   "cell_type": "code",
   "execution_count": 38,
   "metadata": {},
   "outputs": [
    {
     "data": {
      "text/plain": [
       "array([[[ 52.,  46.,  47., ...,  57.,  57.,  56.],\n",
       "        [ 52.,  45.,  47., ...,  53.,  62.,  58.],\n",
       "        [ 51.,  46.,  46., ...,  59.,  62.,  53.],\n",
       "        ...,\n",
       "        [ 37.,  35.,  30., ..., 111., 181., 240.],\n",
       "        [ 41.,  40.,  34., ..., 135., 202., 249.],\n",
       "        [ 42.,  44.,  39., ..., 160., 220., 253.]],\n",
       "\n",
       "       [[ 43.,  46.,  40., ...,  28.,  26.,  26.],\n",
       "        [ 43.,  42.,  37., ...,  37.,  31.,  28.],\n",
       "        [ 40.,  38.,  36., ...,  37.,  31.,  30.],\n",
       "        ...,\n",
       "        [ 40.,  33.,  28., ...,  10.,  13.,  17.],\n",
       "        [ 44.,  40.,  31., ...,  14.,  15.,  17.],\n",
       "        [ 31.,  40.,  44., ...,  13.,  13.,  11.]],\n",
       "\n",
       "       [[  9.,   4.,  28., ...,  59.,  45.,  26.],\n",
       "        [  7.,  19.,  33., ...,  67.,  26.,  23.],\n",
       "        [ 16.,  28.,  41., ...,  62.,  32.,  19.],\n",
       "        ...,\n",
       "        [220., 216., 199., ..., 192., 199., 172.],\n",
       "        [224., 220., 214., ..., 195., 190., 115.],\n",
       "        [222., 222., 222., ..., 196., 147., 167.]],\n",
       "\n",
       "       [[239., 192.,  29., ...,  19.,  16.,  16.],\n",
       "        [234., 178.,  63., ...,  19.,  16.,  15.],\n",
       "        [241., 155.,  68., ...,  18.,  17.,  14.],\n",
       "        ...,\n",
       "        [255., 241., 233., ...,  95.,  76.,  61.],\n",
       "        [255., 255., 234., ...,  78.,  64.,  52.],\n",
       "        [255., 255., 235., ...,  67.,  57.,  45.]],\n",
       "\n",
       "       [[249., 235., 144., ..., 150., 120., 126.],\n",
       "        [250., 232., 143., ..., 156., 127., 120.],\n",
       "        [249., 219., 148., ..., 155., 134., 117.],\n",
       "        ...,\n",
       "        [252., 251., 252., ..., 196., 193., 192.],\n",
       "        [252., 252., 253., ..., 198., 194., 190.],\n",
       "        [253., 253., 253., ..., 197., 195., 190.]]], dtype=float32)"
      ]
     },
     "execution_count": 38,
     "metadata": {},
     "output_type": "execute_result"
    }
   ],
   "source": [
    "train_x[:5]"
   ]
  },
  {
   "cell_type": "code",
   "execution_count": 36,
   "metadata": {},
   "outputs": [
    {
     "data": {
      "text/plain": [
       "array([[[[ 52.,  52.,  52.],\n",
       "         [ 46.,  46.,  46.],\n",
       "         [ 47.,  47.,  47.],\n",
       "         ...,\n",
       "         [ 57.,  57.,  57.],\n",
       "         [ 57.,  57.,  57.],\n",
       "         [ 56.,  56.,  56.]],\n",
       "\n",
       "        [[ 52.,  52.,  52.],\n",
       "         [ 45.,  45.,  45.],\n",
       "         [ 47.,  47.,  47.],\n",
       "         ...,\n",
       "         [ 53.,  53.,  53.],\n",
       "         [ 62.,  62.,  62.],\n",
       "         [ 58.,  58.,  58.]],\n",
       "\n",
       "        [[ 51.,  51.,  51.],\n",
       "         [ 46.,  46.,  46.],\n",
       "         [ 46.,  46.,  46.],\n",
       "         ...,\n",
       "         [ 59.,  59.,  59.],\n",
       "         [ 62.,  62.,  62.],\n",
       "         [ 53.,  53.,  53.]],\n",
       "\n",
       "        ...,\n",
       "\n",
       "        [[ 37.,  37.,  37.],\n",
       "         [ 35.,  35.,  35.],\n",
       "         [ 30.,  30.,  30.],\n",
       "         ...,\n",
       "         [111., 111., 111.],\n",
       "         [181., 181., 181.],\n",
       "         [240., 240., 240.]],\n",
       "\n",
       "        [[ 41.,  41.,  41.],\n",
       "         [ 40.,  40.,  40.],\n",
       "         [ 34.,  34.,  34.],\n",
       "         ...,\n",
       "         [135., 135., 135.],\n",
       "         [202., 202., 202.],\n",
       "         [249., 249., 249.]],\n",
       "\n",
       "        [[ 42.,  42.,  42.],\n",
       "         [ 44.,  44.,  44.],\n",
       "         [ 39.,  39.,  39.],\n",
       "         ...,\n",
       "         [160., 160., 160.],\n",
       "         [220., 220., 220.],\n",
       "         [253., 253., 253.]]],\n",
       "\n",
       "\n",
       "       [[[ 43.,  43.,  43.],\n",
       "         [ 46.,  46.,  46.],\n",
       "         [ 40.,  40.,  40.],\n",
       "         ...,\n",
       "         [ 28.,  28.,  28.],\n",
       "         [ 26.,  26.,  26.],\n",
       "         [ 26.,  26.,  26.]],\n",
       "\n",
       "        [[ 43.,  43.,  43.],\n",
       "         [ 42.,  42.,  42.],\n",
       "         [ 37.,  37.,  37.],\n",
       "         ...,\n",
       "         [ 37.,  37.,  37.],\n",
       "         [ 31.,  31.,  31.],\n",
       "         [ 28.,  28.,  28.]],\n",
       "\n",
       "        [[ 40.,  40.,  40.],\n",
       "         [ 38.,  38.,  38.],\n",
       "         [ 36.,  36.,  36.],\n",
       "         ...,\n",
       "         [ 37.,  37.,  37.],\n",
       "         [ 31.,  31.,  31.],\n",
       "         [ 30.,  30.,  30.]],\n",
       "\n",
       "        ...,\n",
       "\n",
       "        [[ 40.,  40.,  40.],\n",
       "         [ 33.,  33.,  33.],\n",
       "         [ 28.,  28.,  28.],\n",
       "         ...,\n",
       "         [ 10.,  10.,  10.],\n",
       "         [ 13.,  13.,  13.],\n",
       "         [ 17.,  17.,  17.]],\n",
       "\n",
       "        [[ 44.,  44.,  44.],\n",
       "         [ 40.,  40.,  40.],\n",
       "         [ 31.,  31.,  31.],\n",
       "         ...,\n",
       "         [ 14.,  14.,  14.],\n",
       "         [ 15.,  15.,  15.],\n",
       "         [ 17.,  17.,  17.]],\n",
       "\n",
       "        [[ 31.,  31.,  31.],\n",
       "         [ 40.,  40.,  40.],\n",
       "         [ 44.,  44.,  44.],\n",
       "         ...,\n",
       "         [ 13.,  13.,  13.],\n",
       "         [ 13.,  13.,  13.],\n",
       "         [ 11.,  11.,  11.]]],\n",
       "\n",
       "\n",
       "       [[[  9.,   9.,   9.],\n",
       "         [  4.,   4.,   4.],\n",
       "         [ 28.,  28.,  28.],\n",
       "         ...,\n",
       "         [ 59.,  59.,  59.],\n",
       "         [ 45.,  45.,  45.],\n",
       "         [ 26.,  26.,  26.]],\n",
       "\n",
       "        [[  7.,   7.,   7.],\n",
       "         [ 19.,  19.,  19.],\n",
       "         [ 33.,  33.,  33.],\n",
       "         ...,\n",
       "         [ 67.,  67.,  67.],\n",
       "         [ 26.,  26.,  26.],\n",
       "         [ 23.,  23.,  23.]],\n",
       "\n",
       "        [[ 16.,  16.,  16.],\n",
       "         [ 28.,  28.,  28.],\n",
       "         [ 41.,  41.,  41.],\n",
       "         ...,\n",
       "         [ 62.,  62.,  62.],\n",
       "         [ 32.,  32.,  32.],\n",
       "         [ 19.,  19.,  19.]],\n",
       "\n",
       "        ...,\n",
       "\n",
       "        [[220., 220., 220.],\n",
       "         [216., 216., 216.],\n",
       "         [199., 199., 199.],\n",
       "         ...,\n",
       "         [192., 192., 192.],\n",
       "         [199., 199., 199.],\n",
       "         [172., 172., 172.]],\n",
       "\n",
       "        [[224., 224., 224.],\n",
       "         [220., 220., 220.],\n",
       "         [214., 214., 214.],\n",
       "         ...,\n",
       "         [195., 195., 195.],\n",
       "         [190., 190., 190.],\n",
       "         [115., 115., 115.]],\n",
       "\n",
       "        [[222., 222., 222.],\n",
       "         [222., 222., 222.],\n",
       "         [222., 222., 222.],\n",
       "         ...,\n",
       "         [196., 196., 196.],\n",
       "         [147., 147., 147.],\n",
       "         [167., 167., 167.]]],\n",
       "\n",
       "\n",
       "       ...,\n",
       "\n",
       "\n",
       "       [[[ 40.,  40.,  40.],\n",
       "         [ 42.,  42.,  42.],\n",
       "         [ 45.,  45.,  45.],\n",
       "         ...,\n",
       "         [106., 106., 106.],\n",
       "         [ 92.,  92.,  92.],\n",
       "         [ 72.,  72.,  72.]],\n",
       "\n",
       "        [[ 38.,  38.,  38.],\n",
       "         [ 47.,  47.,  47.],\n",
       "         [ 42.,  42.,  42.],\n",
       "         ...,\n",
       "         [100., 100., 100.],\n",
       "         [ 98.,  98.,  98.],\n",
       "         [ 78.,  78.,  78.]],\n",
       "\n",
       "        [[ 41.,  41.,  41.],\n",
       "         [ 43.,  43.,  43.],\n",
       "         [ 43.,  43.,  43.],\n",
       "         ...,\n",
       "         [ 98.,  98.,  98.],\n",
       "         [ 89.,  89.,  89.],\n",
       "         [ 76.,  76.,  76.]],\n",
       "\n",
       "        ...,\n",
       "\n",
       "        [[ 86.,  86.,  86.],\n",
       "         [ 85.,  85.,  85.],\n",
       "         [ 85.,  85.,  85.],\n",
       "         ...,\n",
       "         [ 88.,  88.,  88.],\n",
       "         [ 93.,  93.,  93.],\n",
       "         [ 86.,  86.,  86.]],\n",
       "\n",
       "        [[ 86.,  86.,  86.],\n",
       "         [ 86.,  86.,  86.],\n",
       "         [ 86.,  86.,  86.],\n",
       "         ...,\n",
       "         [ 92.,  92.,  92.],\n",
       "         [ 85.,  85.,  85.],\n",
       "         [ 80.,  80.,  80.]],\n",
       "\n",
       "        [[ 88.,  88.,  88.],\n",
       "         [ 87.,  87.,  87.],\n",
       "         [ 87.,  87.,  87.],\n",
       "         ...,\n",
       "         [ 83.,  83.,  83.],\n",
       "         [ 84.,  84.,  84.],\n",
       "         [ 80.,  80.,  80.]]],\n",
       "\n",
       "\n",
       "       [[[ 97.,  97.,  97.],\n",
       "         [ 68.,  68.,  68.],\n",
       "         [ 76.,  76.,  76.],\n",
       "         ...,\n",
       "         [ 72.,  72.,  72.],\n",
       "         [ 76.,  76.,  76.],\n",
       "         [ 74.,  74.,  74.]],\n",
       "\n",
       "        [[ 95.,  95.,  95.],\n",
       "         [ 69.,  69.,  69.],\n",
       "         [ 71.,  71.,  71.],\n",
       "         ...,\n",
       "         [ 73.,  73.,  73.],\n",
       "         [ 76.,  76.,  76.],\n",
       "         [ 77.,  77.,  77.]],\n",
       "\n",
       "        [[101., 101., 101.],\n",
       "         [ 74.,  74.,  74.],\n",
       "         [ 67.,  67.,  67.],\n",
       "         ...,\n",
       "         [ 74.,  74.,  74.],\n",
       "         [ 76.,  76.,  76.],\n",
       "         [ 77.,  77.,  77.]],\n",
       "\n",
       "        ...,\n",
       "\n",
       "        [[210., 210., 210.],\n",
       "         [209., 209., 209.],\n",
       "         [209., 209., 209.],\n",
       "         ...,\n",
       "         [208., 208., 208.],\n",
       "         [214., 214., 214.],\n",
       "         [204., 204., 204.]],\n",
       "\n",
       "        [[213., 213., 213.],\n",
       "         [209., 209., 209.],\n",
       "         [205., 205., 205.],\n",
       "         ...,\n",
       "         [214., 214., 214.],\n",
       "         [216., 216., 216.],\n",
       "         [213., 213., 213.]],\n",
       "\n",
       "        [[213., 213., 213.],\n",
       "         [214., 214., 214.],\n",
       "         [202., 202., 202.],\n",
       "         ...,\n",
       "         [216., 216., 216.],\n",
       "         [219., 219., 219.],\n",
       "         [215., 215., 215.]]],\n",
       "\n",
       "\n",
       "       [[[184., 184., 184.],\n",
       "         [178., 178., 178.],\n",
       "         [189., 189., 189.],\n",
       "         ...,\n",
       "         [177., 177., 177.],\n",
       "         [184., 184., 184.],\n",
       "         [190., 190., 190.]],\n",
       "\n",
       "        [[177., 177., 177.],\n",
       "         [188., 188., 188.],\n",
       "         [212., 212., 212.],\n",
       "         ...,\n",
       "         [178., 178., 178.],\n",
       "         [182., 182., 182.],\n",
       "         [170., 170., 170.]],\n",
       "\n",
       "        [[190., 190., 190.],\n",
       "         [195., 195., 195.],\n",
       "         [195., 195., 195.],\n",
       "         ...,\n",
       "         [184., 184., 184.],\n",
       "         [194., 194., 194.],\n",
       "         [192., 192., 192.]],\n",
       "\n",
       "        ...,\n",
       "\n",
       "        [[206., 206., 206.],\n",
       "         [210., 210., 210.],\n",
       "         [212., 212., 212.],\n",
       "         ...,\n",
       "         [183., 183., 183.],\n",
       "         [186., 186., 186.],\n",
       "         [170., 170., 170.]],\n",
       "\n",
       "        [[204., 204., 204.],\n",
       "         [212., 212., 212.],\n",
       "         [218., 218., 218.],\n",
       "         ...,\n",
       "         [186., 186., 186.],\n",
       "         [176., 176., 176.],\n",
       "         [180., 180., 180.]],\n",
       "\n",
       "        [[202., 202., 202.],\n",
       "         [208., 208., 208.],\n",
       "         [213., 213., 213.],\n",
       "         ...,\n",
       "         [177., 177., 177.],\n",
       "         [178., 178., 178.],\n",
       "         [185., 185., 185.]]]], dtype=float32)"
      ]
     },
     "execution_count": 36,
     "metadata": {},
     "output_type": "execute_result"
    }
   ],
   "source": [
    "train_x_2\n"
   ]
  },
  {
   "cell_type": "code",
   "execution_count": null,
   "metadata": {},
   "outputs": [],
   "source": []
  }
 ],
 "metadata": {
  "kernelspec": {
   "display_name": "Python 3",
   "language": "python",
   "name": "python3"
  },
  "language_info": {
   "codemirror_mode": {
    "name": "ipython",
    "version": 3
   },
   "file_extension": ".py",
   "mimetype": "text/x-python",
   "name": "python",
   "nbconvert_exporter": "python",
   "pygments_lexer": "ipython3",
   "version": "3.6.5"
  }
 },
 "nbformat": 4,
 "nbformat_minor": 2
}
